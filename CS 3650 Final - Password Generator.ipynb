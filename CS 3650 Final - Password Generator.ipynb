{
 "cells": [
  {
   "cell_type": "code",
   "execution_count": null,
   "metadata": {},
   "outputs": [],
   "source": [
    "!pip install qiskit"
   ]
  },
  {
   "cell_type": "code",
   "execution_count": null,
   "metadata": {},
   "outputs": [],
   "source": [
    "import qiskit"
   ]
  },
  {
   "cell_type": "code",
   "execution_count": null,
   "metadata": {},
   "outputs": [],
   "source": [
    "from qiskit import IBMQ\n",
    "IBMQ.delete_accounts()\n",
    "myToken = '0fc0a4c2567544a96cdc88566cb857485e6a537599d111cca2f92a306795a85ca5474ce904957bee96a8fbcfdea23464ac1ecd76975f65a05abdba040e102740'\n",
    "IBMQ.save_account(myToken)"
   ]
  },
  {
   "cell_type": "code",
   "execution_count": null,
   "metadata": {},
   "outputs": [],
   "source": [
    "from qiskit import *\n",
    "\n",
    "backend = BasicAer.get_backend('qasm_simulator')\n",
    "\n",
    "q = QuantumRegister(3, 'q')\n",
    "c = ClassicalRegister(3, 'c')\n",
    "\n",
    "circuit = QuantumCircuit(q, c)"
   ]
  },
  {
   "cell_type": "code",
   "execution_count": null,
   "metadata": {},
   "outputs": [],
   "source": [
    "circuit.measure(q, c)\n",
    "result = execute(circuit, backend).result()\n",
    "print(\"Bits haven't been put into superposition yet:\")\n",
    "print(result.get_counts(circuit))"
   ]
  },
  {
   "cell_type": "code",
   "execution_count": null,
   "metadata": {},
   "outputs": [],
   "source": [
    "circuit.h(q[2])\n",
    "circuit.measure(q, c)\n",
    "result = execute(circuit, backend).result()\n",
    "print(\"Only first bit is in superposition:\")\n",
    "print(result.get_counts(circuit))"
   ]
  },
  {
   "cell_type": "code",
   "execution_count": null,
   "metadata": {},
   "outputs": [],
   "source": [
    "circuit.h(q[1])\n",
    "circuit.h(q[0])\n",
    "circuit.measure(q, c)\n",
    "result = execute(circuit, backend).result()\n",
    "count = result.get_counts(circuit)\n",
    "\n",
    "print(\"All bits are in superposition:\")\n",
    "print (count)"
   ]
  },
  {
   "cell_type": "code",
   "execution_count": null,
   "metadata": {},
   "outputs": [],
   "source": [
    "circuit.draw()"
   ]
  },
  {
   "cell_type": "code",
   "execution_count": null,
   "metadata": {},
   "outputs": [],
   "source": [
    "print(\"Results In Order:\")\n",
    "print(\"000: \", count.get('000'))\n",
    "print(\"001: \", count.get('001'))\n",
    "print(\"010: \", count.get('010'))\n",
    "print(\"011: \", count.get('011'))\n",
    "print(\"100: \", count.get('100'))\n",
    "print(\"101: \", count.get('101'))\n",
    "print(\"110: \", count.get('110'))\n",
    "print(\"111: \", count.get('111'))"
   ]
  },
  {
   "cell_type": "code",
   "execution_count": null,
   "metadata": {},
   "outputs": [],
   "source": [
    "import operator\n",
    "\n",
    "maximum = max(count.items(), key=operator.itemgetter(1))[0]\n",
    "print(\"Maximum: \")\n",
    "print(maximum,\": \",count.get(maximum))"
   ]
  },
  {
   "cell_type": "code",
   "execution_count": null,
   "metadata": {},
   "outputs": [],
   "source": [
    "minimum = min(count.items(), key=operator.itemgetter(1))[0]\n",
    "print(\"Minimum: \")\n",
    "print(minimum,\": \",count.get(minimum))"
   ]
  },
  {
   "cell_type": "code",
   "execution_count": null,
   "metadata": {},
   "outputs": [],
   "source": []
  },
  {
   "cell_type": "code",
   "execution_count": null,
   "metadata": {},
   "outputs": [],
   "source": [
    "q = QuantumRegister(5, 'q')\n",
    "c = ClassicalRegister(5, 'c')\n",
    "\n",
    "circuit = QuantumCircuit(q, c)\n",
    "circuit.h(q[0])\n",
    "circuit.h(q[1])\n",
    "circuit.h(q[2])\n",
    "circuit.h(q[3])\n",
    "circuit.h(q[4])\n",
    "\n",
    "circuit.measure(q, c)"
   ]
  },
  {
   "cell_type": "code",
   "execution_count": null,
   "metadata": {},
   "outputs": [],
   "source": [
    "alphabet_code = {\n",
    "    \"00000\" : 'A',\n",
    "    \"00001\" : 'B',\n",
    "    \"00010\" : 'C',\n",
    "    \"00011\" : 'D',\n",
    "    \"00100\" : 'E',\n",
    "    \"00101\" : 'F',\n",
    "    \"00110\" : 'G',\n",
    "    \"00111\" : 'H',\n",
    "    \"01000\" : 'I',\n",
    "    \"01001\" : 'J',\n",
    "    \"01010\" : 'K',\n",
    "    \"01011\" : 'L',\n",
    "    \"01100\" : 'M',\n",
    "    \"01101\" : 'N',\n",
    "    \"01110\" : 'O',\n",
    "    \"01111\" : 'P',\n",
    "    \"10000\" : 'Q',\n",
    "    \"10001\" : 'R',\n",
    "    \"10010\" : 'S',\n",
    "    \"10011\" : 'T',\n",
    "    \"10100\" : 'U',\n",
    "    \"10101\" : 'V',\n",
    "    \"10110\" : 'W',\n",
    "    \"10111\" : 'X',\n",
    "    \"11000\" : 'Y',\n",
    "    \"11001\" : 'Z',\n",
    "    \"11010\" : '!',\n",
    "    \"11011\" : '?',\n",
    "    \"11100\" : '*',\n",
    "    \"11101\" : '$',\n",
    "    \"11110\" : '#',\n",
    "    \"11111\" : '-',\n",
    "}"
   ]
  },
  {
   "cell_type": "code",
   "execution_count": null,
   "metadata": {},
   "outputs": [],
   "source": [
    "def generate_password():\n",
    "\n",
    "    result = execute(circuit, backend).result()\n",
    "    count = result.get_counts(circuit)\n",
    "    \n",
    "    #choose a password length between 10 and 13 (inclusive)\n",
    "    maximum = max(count.items(), key=operator.itemgetter(1))[0]\n",
    "    count.pop(maximum)\n",
    "    password_length = int(maximum, 2)%4\n",
    "    password_length += 10\n",
    "    \n",
    "    #assigns 10-13 characters to a temporary password builder \n",
    "    passwordBuilder = \"\"\n",
    "    for x in range(password_length):\n",
    "        maximum = max(count.items(), key=operator.itemgetter(1))[0]\n",
    "        count.pop(maximum)\n",
    "        passwordBuilder += alphabet_code.get(maximum)\n",
    "    \n",
    "    #chooses up to 5 random indexes\n",
    "    indexes = []\n",
    "    for x in range(5):\n",
    "        maximum = max(count.items(), key=operator.itemgetter(1))[0]\n",
    "        count.pop(maximum)\n",
    "        next_index = int(maximum, 2)%password_length\n",
    "        indexes.append(next_index)\n",
    "        \n",
    "    #changes characters at chosen indexes to lowercase\n",
    "    password = \"\"\n",
    "    for x in range(password_length):\n",
    "        if x in indexes:\n",
    "            password += passwordBuilder[x].lower()\n",
    "        else:\n",
    "            password += passwordBuilder[x]\n",
    "            \n",
    "    #adds a number (between 0 and 31) to the end of the password\n",
    "    maximum = max(count.items(), key=operator.itemgetter(1))[0]\n",
    "    count.pop(maximum)\n",
    "    number = str(int(maximum, 2))\n",
    "    password += number\n",
    "    \n",
    "    return password\n",
    "\n",
    "\n",
    "import ipywidgets as widgets\n",
    "\n",
    "button = widgets.Button(description=\"Generate Password\")\n",
    "display(button)\n",
    "\n",
    "def on_button_clicked(b):\n",
    "    password = generate_password()\n",
    "    print( \"Password: \", password)\n",
    "    \n",
    "button.on_click(on_button_clicked)"
   ]
  }
 ],
 "metadata": {
  "kernelspec": {
   "display_name": "Python 3",
   "language": "python",
   "name": "python3"
  },
  "language_info": {
   "codemirror_mode": {
    "name": "ipython",
    "version": 3
   },
   "file_extension": ".py",
   "mimetype": "text/x-python",
   "name": "python",
   "nbconvert_exporter": "python",
   "pygments_lexer": "ipython3",
   "version": "3.7.3"
  }
 },
 "nbformat": 4,
 "nbformat_minor": 2
}
